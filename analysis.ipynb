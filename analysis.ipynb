{
 "cells": [
  {
   "cell_type": "markdown",
   "metadata": {},
   "source": [
    "# Averaging the Daily Costs by Country"
   ]
  },
  {
   "cell_type": "code",
   "execution_count": null,
   "metadata": {},
   "outputs": [],
   "source": [
    "final_df = pd.read_csv(\"mid_range_costs.csv\")\n",
    "country_avgs = final_df.groupby(\"Country / Territory\")[\"Daily Cost\"].mean().round(2)\n",
    "country_avgs.to_csv(\"country_avgs.csv\")"
   ]
  }
 ],
 "metadata": {
  "language_info": {
   "name": "python"
  }
 },
 "nbformat": 4,
 "nbformat_minor": 2
}
