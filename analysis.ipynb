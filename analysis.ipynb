{
 "cells": [
  {
   "cell_type": "code",
   "execution_count": 5,
   "metadata": {},
   "outputs": [],
   "source": [
    "# importing packages\n",
    "import pandas as pd\n",
    "import numpy as np\n",
    "import requests\n",
    "import re\n",
    "from bs4 import BeautifulSoup\n",
    "import time\n",
    "import matplotlib.pyplot as plt\n",
    "import seaborn as sns\n",
    "import scipy.stats as stats"
   ]
  },
  {
   "cell_type": "markdown",
   "metadata": {},
   "source": [
    "## Choropleth Map for the Average Daily Cost of each Country"
   ]
  },
  {
   "cell_type": "code",
   "execution_count": 21,
   "metadata": {},
   "outputs": [
    {
     "data": {
      "application/vnd.plotly.v1+json": {
       "config": {
        "plotlyServerURL": "https://plot.ly"
       },
       "data": [
        {
         "autocolorscale": false,
         "colorbar": {
          "tickprefix": "$",
          "title": {
           "text": "Daily Cost<br>US$"
          }
         },
         "colorscale": [
          [
           0,
           "rgb(252, 222, 156)"
          ],
          [
           0.16666666666666666,
           "rgb(250, 164, 118)"
          ],
          [
           0.3333333333333333,
           "rgb(240, 116, 110)"
          ],
          [
           0.5,
           "rgb(227, 79, 111)"
          ],
          [
           0.6666666666666666,
           "rgb(220, 57, 119)"
          ],
          [
           0.8333333333333334,
           "rgb(185, 37, 122)"
          ],
          [
           1,
           "rgb(124, 29, 111)"
          ]
         ],
         "locations": [
          "ARG",
          "AUS",
          "AUT",
          "BEL",
          "BRA",
          "CAN",
          "CHN",
          "CZE",
          "DNK",
          "EGY",
          "FRA",
          "DEU",
          "GRC",
          "HKG",
          "HUN",
          "IND",
          "IDN",
          "IRL",
          "ISR",
          "ITA",
          "JPN",
          "MAC",
          "MYS",
          "MEX",
          "MAR",
          "NLD",
          "NZL",
          "PER",
          "PHL",
          "POL",
          "PRT",
          "RUS",
          "SAU",
          "SGP",
          "ZAF",
          null,
          "ESP",
          "SWE",
          "TWN",
          "THA",
          "TUR",
          "ARE",
          "GBR",
          "USA",
          "VNM"
         ],
         "marker": {
          "line": {
           "color": "darkgray",
           "width": 0.5
          }
         },
         "reversescale": true,
         "text": [
          "Argentina",
          "Australia",
          "Austria",
          "Belgium",
          "Brazil",
          "Canada",
          "China",
          "Czech Republic",
          "Denmark",
          "Egypt",
          "France",
          "Germany",
          "Greece",
          "Hong Kong",
          "Hungary",
          "India",
          "Indonesia",
          "Ireland",
          "Israel",
          "Italy",
          "Japan",
          "Macau",
          "Malaysia",
          "Mexico",
          "Morocco",
          "Netherlands",
          "New Zealand",
          "Peru",
          "Philippines",
          "Poland",
          "Portugal",
          "Russia",
          "Saudi Arabia",
          "Singapore",
          "South Africa",
          "South Korea",
          "Spain",
          "Sweden",
          "Taiwan",
          "Thailand",
          "Turkey",
          "United Arab Emirates",
          "United Kingdom",
          "United States",
          "Vietnam"
         ],
         "type": "choropleth",
         "z": [
          79,
          241,
          191,
          179,
          107,
          200,
          105.67,
          127,
          248,
          19,
          232.5,
          179,
          187.33,
          196,
          102,
          47,
          75.67,
          194,
          152,
          219.6,
          125.6,
          159,
          64.67,
          138,
          83,
          223,
          153,
          90,
          78,
          94.5,
          170.5,
          79,
          53,
          175,
          109,
          102.5,
          185.33,
          198,
          191,
          89.4,
          138.33,
          243,
          274,
          318.71,
          68.25
         ]
        }
       ],
       "layout": {
        "annotations": [
         {
          "showarrow": false,
          "text": "Source: <a href=\"budgetyourtrip.com\">            BudgetYourTrip.com</a>",
          "x": 0.55,
          "xref": "paper",
          "y": 0.1,
          "yref": "paper"
         }
        ],
        "geo": {
         "projection": {
          "type": "equirectangular"
         },
         "showcoastlines": false,
         "showframe": false
        },
        "template": {
         "data": {
          "bar": [
           {
            "error_x": {
             "color": "#2a3f5f"
            },
            "error_y": {
             "color": "#2a3f5f"
            },
            "marker": {
             "line": {
              "color": "#E5ECF6",
              "width": 0.5
             },
             "pattern": {
              "fillmode": "overlay",
              "size": 10,
              "solidity": 0.2
             }
            },
            "type": "bar"
           }
          ],
          "barpolar": [
           {
            "marker": {
             "line": {
              "color": "#E5ECF6",
              "width": 0.5
             },
             "pattern": {
              "fillmode": "overlay",
              "size": 10,
              "solidity": 0.2
             }
            },
            "type": "barpolar"
           }
          ],
          "carpet": [
           {
            "aaxis": {
             "endlinecolor": "#2a3f5f",
             "gridcolor": "white",
             "linecolor": "white",
             "minorgridcolor": "white",
             "startlinecolor": "#2a3f5f"
            },
            "baxis": {
             "endlinecolor": "#2a3f5f",
             "gridcolor": "white",
             "linecolor": "white",
             "minorgridcolor": "white",
             "startlinecolor": "#2a3f5f"
            },
            "type": "carpet"
           }
          ],
          "choropleth": [
           {
            "colorbar": {
             "outlinewidth": 0,
             "ticks": ""
            },
            "type": "choropleth"
           }
          ],
          "contour": [
           {
            "colorbar": {
             "outlinewidth": 0,
             "ticks": ""
            },
            "colorscale": [
             [
              0,
              "#0d0887"
             ],
             [
              0.1111111111111111,
              "#46039f"
             ],
             [
              0.2222222222222222,
              "#7201a8"
             ],
             [
              0.3333333333333333,
              "#9c179e"
             ],
             [
              0.4444444444444444,
              "#bd3786"
             ],
             [
              0.5555555555555556,
              "#d8576b"
             ],
             [
              0.6666666666666666,
              "#ed7953"
             ],
             [
              0.7777777777777778,
              "#fb9f3a"
             ],
             [
              0.8888888888888888,
              "#fdca26"
             ],
             [
              1,
              "#f0f921"
             ]
            ],
            "type": "contour"
           }
          ],
          "contourcarpet": [
           {
            "colorbar": {
             "outlinewidth": 0,
             "ticks": ""
            },
            "type": "contourcarpet"
           }
          ],
          "heatmap": [
           {
            "colorbar": {
             "outlinewidth": 0,
             "ticks": ""
            },
            "colorscale": [
             [
              0,
              "#0d0887"
             ],
             [
              0.1111111111111111,
              "#46039f"
             ],
             [
              0.2222222222222222,
              "#7201a8"
             ],
             [
              0.3333333333333333,
              "#9c179e"
             ],
             [
              0.4444444444444444,
              "#bd3786"
             ],
             [
              0.5555555555555556,
              "#d8576b"
             ],
             [
              0.6666666666666666,
              "#ed7953"
             ],
             [
              0.7777777777777778,
              "#fb9f3a"
             ],
             [
              0.8888888888888888,
              "#fdca26"
             ],
             [
              1,
              "#f0f921"
             ]
            ],
            "type": "heatmap"
           }
          ],
          "heatmapgl": [
           {
            "colorbar": {
             "outlinewidth": 0,
             "ticks": ""
            },
            "colorscale": [
             [
              0,
              "#0d0887"
             ],
             [
              0.1111111111111111,
              "#46039f"
             ],
             [
              0.2222222222222222,
              "#7201a8"
             ],
             [
              0.3333333333333333,
              "#9c179e"
             ],
             [
              0.4444444444444444,
              "#bd3786"
             ],
             [
              0.5555555555555556,
              "#d8576b"
             ],
             [
              0.6666666666666666,
              "#ed7953"
             ],
             [
              0.7777777777777778,
              "#fb9f3a"
             ],
             [
              0.8888888888888888,
              "#fdca26"
             ],
             [
              1,
              "#f0f921"
             ]
            ],
            "type": "heatmapgl"
           }
          ],
          "histogram": [
           {
            "marker": {
             "pattern": {
              "fillmode": "overlay",
              "size": 10,
              "solidity": 0.2
             }
            },
            "type": "histogram"
           }
          ],
          "histogram2d": [
           {
            "colorbar": {
             "outlinewidth": 0,
             "ticks": ""
            },
            "colorscale": [
             [
              0,
              "#0d0887"
             ],
             [
              0.1111111111111111,
              "#46039f"
             ],
             [
              0.2222222222222222,
              "#7201a8"
             ],
             [
              0.3333333333333333,
              "#9c179e"
             ],
             [
              0.4444444444444444,
              "#bd3786"
             ],
             [
              0.5555555555555556,
              "#d8576b"
             ],
             [
              0.6666666666666666,
              "#ed7953"
             ],
             [
              0.7777777777777778,
              "#fb9f3a"
             ],
             [
              0.8888888888888888,
              "#fdca26"
             ],
             [
              1,
              "#f0f921"
             ]
            ],
            "type": "histogram2d"
           }
          ],
          "histogram2dcontour": [
           {
            "colorbar": {
             "outlinewidth": 0,
             "ticks": ""
            },
            "colorscale": [
             [
              0,
              "#0d0887"
             ],
             [
              0.1111111111111111,
              "#46039f"
             ],
             [
              0.2222222222222222,
              "#7201a8"
             ],
             [
              0.3333333333333333,
              "#9c179e"
             ],
             [
              0.4444444444444444,
              "#bd3786"
             ],
             [
              0.5555555555555556,
              "#d8576b"
             ],
             [
              0.6666666666666666,
              "#ed7953"
             ],
             [
              0.7777777777777778,
              "#fb9f3a"
             ],
             [
              0.8888888888888888,
              "#fdca26"
             ],
             [
              1,
              "#f0f921"
             ]
            ],
            "type": "histogram2dcontour"
           }
          ],
          "mesh3d": [
           {
            "colorbar": {
             "outlinewidth": 0,
             "ticks": ""
            },
            "type": "mesh3d"
           }
          ],
          "parcoords": [
           {
            "line": {
             "colorbar": {
              "outlinewidth": 0,
              "ticks": ""
             }
            },
            "type": "parcoords"
           }
          ],
          "pie": [
           {
            "automargin": true,
            "type": "pie"
           }
          ],
          "scatter": [
           {
            "fillpattern": {
             "fillmode": "overlay",
             "size": 10,
             "solidity": 0.2
            },
            "type": "scatter"
           }
          ],
          "scatter3d": [
           {
            "line": {
             "colorbar": {
              "outlinewidth": 0,
              "ticks": ""
             }
            },
            "marker": {
             "colorbar": {
              "outlinewidth": 0,
              "ticks": ""
             }
            },
            "type": "scatter3d"
           }
          ],
          "scattercarpet": [
           {
            "marker": {
             "colorbar": {
              "outlinewidth": 0,
              "ticks": ""
             }
            },
            "type": "scattercarpet"
           }
          ],
          "scattergeo": [
           {
            "marker": {
             "colorbar": {
              "outlinewidth": 0,
              "ticks": ""
             }
            },
            "type": "scattergeo"
           }
          ],
          "scattergl": [
           {
            "marker": {
             "colorbar": {
              "outlinewidth": 0,
              "ticks": ""
             }
            },
            "type": "scattergl"
           }
          ],
          "scattermapbox": [
           {
            "marker": {
             "colorbar": {
              "outlinewidth": 0,
              "ticks": ""
             }
            },
            "type": "scattermapbox"
           }
          ],
          "scatterpolar": [
           {
            "marker": {
             "colorbar": {
              "outlinewidth": 0,
              "ticks": ""
             }
            },
            "type": "scatterpolar"
           }
          ],
          "scatterpolargl": [
           {
            "marker": {
             "colorbar": {
              "outlinewidth": 0,
              "ticks": ""
             }
            },
            "type": "scatterpolargl"
           }
          ],
          "scatterternary": [
           {
            "marker": {
             "colorbar": {
              "outlinewidth": 0,
              "ticks": ""
             }
            },
            "type": "scatterternary"
           }
          ],
          "surface": [
           {
            "colorbar": {
             "outlinewidth": 0,
             "ticks": ""
            },
            "colorscale": [
             [
              0,
              "#0d0887"
             ],
             [
              0.1111111111111111,
              "#46039f"
             ],
             [
              0.2222222222222222,
              "#7201a8"
             ],
             [
              0.3333333333333333,
              "#9c179e"
             ],
             [
              0.4444444444444444,
              "#bd3786"
             ],
             [
              0.5555555555555556,
              "#d8576b"
             ],
             [
              0.6666666666666666,
              "#ed7953"
             ],
             [
              0.7777777777777778,
              "#fb9f3a"
             ],
             [
              0.8888888888888888,
              "#fdca26"
             ],
             [
              1,
              "#f0f921"
             ]
            ],
            "type": "surface"
           }
          ],
          "table": [
           {
            "cells": {
             "fill": {
              "color": "#EBF0F8"
             },
             "line": {
              "color": "white"
             }
            },
            "header": {
             "fill": {
              "color": "#C8D4E3"
             },
             "line": {
              "color": "white"
             }
            },
            "type": "table"
           }
          ]
         },
         "layout": {
          "annotationdefaults": {
           "arrowcolor": "#2a3f5f",
           "arrowhead": 0,
           "arrowwidth": 1
          },
          "autotypenumbers": "strict",
          "coloraxis": {
           "colorbar": {
            "outlinewidth": 0,
            "ticks": ""
           }
          },
          "colorscale": {
           "diverging": [
            [
             0,
             "#8e0152"
            ],
            [
             0.1,
             "#c51b7d"
            ],
            [
             0.2,
             "#de77ae"
            ],
            [
             0.3,
             "#f1b6da"
            ],
            [
             0.4,
             "#fde0ef"
            ],
            [
             0.5,
             "#f7f7f7"
            ],
            [
             0.6,
             "#e6f5d0"
            ],
            [
             0.7,
             "#b8e186"
            ],
            [
             0.8,
             "#7fbc41"
            ],
            [
             0.9,
             "#4d9221"
            ],
            [
             1,
             "#276419"
            ]
           ],
           "sequential": [
            [
             0,
             "#0d0887"
            ],
            [
             0.1111111111111111,
             "#46039f"
            ],
            [
             0.2222222222222222,
             "#7201a8"
            ],
            [
             0.3333333333333333,
             "#9c179e"
            ],
            [
             0.4444444444444444,
             "#bd3786"
            ],
            [
             0.5555555555555556,
             "#d8576b"
            ],
            [
             0.6666666666666666,
             "#ed7953"
            ],
            [
             0.7777777777777778,
             "#fb9f3a"
            ],
            [
             0.8888888888888888,
             "#fdca26"
            ],
            [
             1,
             "#f0f921"
            ]
           ],
           "sequentialminus": [
            [
             0,
             "#0d0887"
            ],
            [
             0.1111111111111111,
             "#46039f"
            ],
            [
             0.2222222222222222,
             "#7201a8"
            ],
            [
             0.3333333333333333,
             "#9c179e"
            ],
            [
             0.4444444444444444,
             "#bd3786"
            ],
            [
             0.5555555555555556,
             "#d8576b"
            ],
            [
             0.6666666666666666,
             "#ed7953"
            ],
            [
             0.7777777777777778,
             "#fb9f3a"
            ],
            [
             0.8888888888888888,
             "#fdca26"
            ],
            [
             1,
             "#f0f921"
            ]
           ]
          },
          "colorway": [
           "#636efa",
           "#EF553B",
           "#00cc96",
           "#ab63fa",
           "#FFA15A",
           "#19d3f3",
           "#FF6692",
           "#B6E880",
           "#FF97FF",
           "#FECB52"
          ],
          "font": {
           "color": "#2a3f5f"
          },
          "geo": {
           "bgcolor": "white",
           "lakecolor": "white",
           "landcolor": "#E5ECF6",
           "showlakes": true,
           "showland": true,
           "subunitcolor": "white"
          },
          "hoverlabel": {
           "align": "left"
          },
          "hovermode": "closest",
          "mapbox": {
           "style": "light"
          },
          "paper_bgcolor": "white",
          "plot_bgcolor": "#E5ECF6",
          "polar": {
           "angularaxis": {
            "gridcolor": "white",
            "linecolor": "white",
            "ticks": ""
           },
           "bgcolor": "#E5ECF6",
           "radialaxis": {
            "gridcolor": "white",
            "linecolor": "white",
            "ticks": ""
           }
          },
          "scene": {
           "xaxis": {
            "backgroundcolor": "#E5ECF6",
            "gridcolor": "white",
            "gridwidth": 2,
            "linecolor": "white",
            "showbackground": true,
            "ticks": "",
            "zerolinecolor": "white"
           },
           "yaxis": {
            "backgroundcolor": "#E5ECF6",
            "gridcolor": "white",
            "gridwidth": 2,
            "linecolor": "white",
            "showbackground": true,
            "ticks": "",
            "zerolinecolor": "white"
           },
           "zaxis": {
            "backgroundcolor": "#E5ECF6",
            "gridcolor": "white",
            "gridwidth": 2,
            "linecolor": "white",
            "showbackground": true,
            "ticks": "",
            "zerolinecolor": "white"
           }
          },
          "shapedefaults": {
           "line": {
            "color": "#2a3f5f"
           }
          },
          "ternary": {
           "aaxis": {
            "gridcolor": "white",
            "linecolor": "white",
            "ticks": ""
           },
           "baxis": {
            "gridcolor": "white",
            "linecolor": "white",
            "ticks": ""
           },
           "bgcolor": "#E5ECF6",
           "caxis": {
            "gridcolor": "white",
            "linecolor": "white",
            "ticks": ""
           }
          },
          "title": {
           "x": 0.05
          },
          "xaxis": {
           "automargin": true,
           "gridcolor": "white",
           "linecolor": "white",
           "ticks": "",
           "title": {
            "standoff": 15
           },
           "zerolinecolor": "white",
           "zerolinewidth": 2
          },
          "yaxis": {
           "automargin": true,
           "gridcolor": "white",
           "linecolor": "white",
           "ticks": "",
           "title": {
            "standoff": 15
           },
           "zerolinecolor": "white",
           "zerolinewidth": 2
          }
         }
        },
        "title": {
         "text": "Average Daily Cost in the 2018/2016 Top 100 Most Visited Countries"
        }
       }
      }
     },
     "metadata": {},
     "output_type": "display_data"
    }
   ],
   "source": [
    "import plotly.graph_objects as go\n",
    "import pandas as pd\n",
    "\n",
    "df = pd.read_csv('ct_avgs_code.csv')\n",
    "\n",
    "fig = go.Figure(data=go.Choropleth(\n",
    "    locations = df['Code'],\n",
    "    z = df['Daily Cost'],\n",
    "    text = df['Country / Territory'],\n",
    "    colorscale = 'sunsetdark',\n",
    "    autocolorscale=False,\n",
    "    reversescale=True,\n",
    "    marker_line_color='darkgray',\n",
    "    marker_line_width=0.5,\n",
    "    colorbar_tickprefix = '$',\n",
    "    colorbar_title = 'Daily Cost<br>US$',\n",
    "))\n",
    "\n",
    "fig.update_layout(\n",
    "    title_text='Average Daily Cost in the 2018/2016 Top 100 Most Visited Countries',\n",
    "    geo=dict(\n",
    "        showframe=False,\n",
    "        showcoastlines=False,\n",
    "        projection_type='equirectangular'\n",
    "    ),\n",
    "    annotations = [dict(\n",
    "        x=0.55,\n",
    "        y=0.1,\n",
    "        xref='paper',\n",
    "        yref='paper',\n",
    "        text='Source: <a href=\"budgetyourtrip.com\">\\\n",
    "            BudgetYourTrip.com</a>',\n",
    "        showarrow = False\n",
    "    )]\n",
    ")\n",
    "\n",
    "fig.write_html(\"country_avgs_map.html\")\n",
    "\n",
    "\n",
    "fig.show()"
   ]
  },
  {
   "cell_type": "code",
   "execution_count": 22,
   "metadata": {},
   "outputs": [],
   "source": [
    "final_costs = pd.read_csv('final_trip_costs.csv')"
   ]
  },
  {
   "cell_type": "code",
   "execution_count": null,
   "metadata": {},
   "outputs": [
    {
     "data": {
      "text/html": [
       "<div>\n",
       "<style scoped>\n",
       "    .dataframe tbody tr th:only-of-type {\n",
       "        vertical-align: middle;\n",
       "    }\n",
       "\n",
       "    .dataframe tbody tr th {\n",
       "        vertical-align: top;\n",
       "    }\n",
       "\n",
       "    .dataframe thead th {\n",
       "        text-align: right;\n",
       "    }\n",
       "</style>\n",
       "<table border=\"1\" class=\"dataframe\">\n",
       "  <thead>\n",
       "    <tr style=\"text-align: right;\">\n",
       "      <th></th>\n",
       "      <th>Rank (Euromonitor)</th>\n",
       "      <th>City</th>\n",
       "      <th>Country / Territory</th>\n",
       "      <th>Links</th>\n",
       "      <th>Daily Cost</th>\n",
       "      <th>1 Week (Individual)</th>\n",
       "      <th>2 Weeks (Individual)</th>\n",
       "      <th>1 Month (Individual)</th>\n",
       "      <th>1 Week (Couple)</th>\n",
       "      <th>2 Weeks (Couple)</th>\n",
       "      <th>1 Month (Couple)</th>\n",
       "      <th>Accommodation1</th>\n",
       "      <th>Local Transportation1</th>\n",
       "      <th>Food2</th>\n",
       "      <th>Entertainment1</th>\n",
       "      <th>Alcohol2</th>\n",
       "    </tr>\n",
       "  </thead>\n",
       "  <tbody>\n",
       "    <tr>\n",
       "      <th>82</th>\n",
       "      <td>83.0</td>\n",
       "      <td>Hurghada</td>\n",
       "      <td>Egypt</td>\n",
       "      <td>https://www.budgetyourtrip.com/egypt</td>\n",
       "      <td>19.0</td>\n",
       "      <td>132.0</td>\n",
       "      <td>265.0</td>\n",
       "      <td>567.0</td>\n",
       "      <td>265.0</td>\n",
       "      <td>530.0</td>\n",
       "      <td>1135.0</td>\n",
       "      <td>6.92</td>\n",
       "      <td>2.65</td>\n",
       "      <td>7.92</td>\n",
       "      <td>5.24</td>\n",
       "      <td>1.5</td>\n",
       "    </tr>\n",
       "    <tr>\n",
       "      <th>39</th>\n",
       "      <td>40.0</td>\n",
       "      <td>Jaipur</td>\n",
       "      <td>India</td>\n",
       "      <td>https://www.budgetyourtrip.com/india/jaipur</td>\n",
       "      <td>22.0</td>\n",
       "      <td>151.0</td>\n",
       "      <td>301.0</td>\n",
       "      <td>645.0</td>\n",
       "      <td>301.0</td>\n",
       "      <td>602.0</td>\n",
       "      <td>1290.0</td>\n",
       "      <td>11.00</td>\n",
       "      <td>1.00</td>\n",
       "      <td>8.00</td>\n",
       "      <td>4.00</td>\n",
       "      <td>2.5</td>\n",
       "    </tr>\n",
       "    <tr>\n",
       "      <th>36</th>\n",
       "      <td>37.0</td>\n",
       "      <td>Chennai</td>\n",
       "      <td>India</td>\n",
       "      <td>https://www.budgetyourtrip.com/india/chennai</td>\n",
       "      <td>33.0</td>\n",
       "      <td>230.0</td>\n",
       "      <td>461.0</td>\n",
       "      <td>988.0</td>\n",
       "      <td>461.0</td>\n",
       "      <td>922.0</td>\n",
       "      <td>1975.0</td>\n",
       "      <td>15.00</td>\n",
       "      <td>3.00</td>\n",
       "      <td>11.00</td>\n",
       "      <td>3.00</td>\n",
       "      <td>2.5</td>\n",
       "    </tr>\n",
       "    <tr>\n",
       "      <th>26</th>\n",
       "      <td>27.0</td>\n",
       "      <td>Agra</td>\n",
       "      <td>India</td>\n",
       "      <td>https://www.budgetyourtrip.com/india</td>\n",
       "      <td>45.0</td>\n",
       "      <td>312.0</td>\n",
       "      <td>624.0</td>\n",
       "      <td>1336.0</td>\n",
       "      <td>624.0</td>\n",
       "      <td>1247.0</td>\n",
       "      <td>2673.0</td>\n",
       "      <td>17.00</td>\n",
       "      <td>6.39</td>\n",
       "      <td>17.00</td>\n",
       "      <td>9.96</td>\n",
       "      <td>6.5</td>\n",
       "    </tr>\n",
       "    <tr>\n",
       "      <th>76</th>\n",
       "      <td>77.0</td>\n",
       "      <td>Kolkata</td>\n",
       "      <td>India</td>\n",
       "      <td>https://www.budgetyourtrip.com/india/kolkata-c...</td>\n",
       "      <td>46.0</td>\n",
       "      <td>321.0</td>\n",
       "      <td>643.0</td>\n",
       "      <td>1378.0</td>\n",
       "      <td>643.0</td>\n",
       "      <td>1286.0</td>\n",
       "      <td>2755.0</td>\n",
       "      <td>16.00</td>\n",
       "      <td>5.00</td>\n",
       "      <td>24.00</td>\n",
       "      <td>14.00</td>\n",
       "      <td>8.0</td>\n",
       "    </tr>\n",
       "  </tbody>\n",
       "</table>\n",
       "</div>"
      ],
      "text/plain": [
       "    Rank (Euromonitor)      City Country / Territory  \\\n",
       "82                83.0  Hurghada               Egypt   \n",
       "39                40.0    Jaipur               India   \n",
       "36                37.0   Chennai               India   \n",
       "26                27.0      Agra               India   \n",
       "76                77.0   Kolkata               India   \n",
       "\n",
       "                                                Links  Daily Cost  \\\n",
       "82               https://www.budgetyourtrip.com/egypt        19.0   \n",
       "39        https://www.budgetyourtrip.com/india/jaipur        22.0   \n",
       "36       https://www.budgetyourtrip.com/india/chennai        33.0   \n",
       "26               https://www.budgetyourtrip.com/india        45.0   \n",
       "76  https://www.budgetyourtrip.com/india/kolkata-c...        46.0   \n",
       "\n",
       "    1 Week (Individual)  2 Weeks (Individual)  1 Month (Individual)  \\\n",
       "82                132.0                 265.0                 567.0   \n",
       "39                151.0                 301.0                 645.0   \n",
       "36                230.0                 461.0                 988.0   \n",
       "26                312.0                 624.0                1336.0   \n",
       "76                321.0                 643.0                1378.0   \n",
       "\n",
       "    1 Week (Couple)  2 Weeks (Couple)  1 Month (Couple)  Accommodation1  \\\n",
       "82            265.0             530.0            1135.0            6.92   \n",
       "39            301.0             602.0            1290.0           11.00   \n",
       "36            461.0             922.0            1975.0           15.00   \n",
       "26            624.0            1247.0            2673.0           17.00   \n",
       "76            643.0            1286.0            2755.0           16.00   \n",
       "\n",
       "    Local Transportation1  Food2  Entertainment1  Alcohol2  \n",
       "82                   2.65   7.92            5.24       1.5  \n",
       "39                   1.00   8.00            4.00       2.5  \n",
       "36                   3.00  11.00            3.00       2.5  \n",
       "26                   6.39  17.00            9.96       6.5  \n",
       "76                   5.00  24.00           14.00       8.0  "
      ]
     },
     "execution_count": 24,
     "metadata": {},
     "output_type": "execute_result"
    }
   ],
   "source": [
    "# top 5 cheapest cities\n",
    "final_costs.sort_values(\"Daily Cost\", ascending=True).head()"
   ]
  },
  {
   "cell_type": "code",
   "execution_count": 25,
   "metadata": {},
   "outputs": [
    {
     "data": {
      "text/html": [
       "<div>\n",
       "<style scoped>\n",
       "    .dataframe tbody tr th:only-of-type {\n",
       "        vertical-align: middle;\n",
       "    }\n",
       "\n",
       "    .dataframe tbody tr th {\n",
       "        vertical-align: top;\n",
       "    }\n",
       "\n",
       "    .dataframe thead th {\n",
       "        text-align: right;\n",
       "    }\n",
       "</style>\n",
       "<table border=\"1\" class=\"dataframe\">\n",
       "  <thead>\n",
       "    <tr style=\"text-align: right;\">\n",
       "      <th></th>\n",
       "      <th>Rank (Euromonitor)</th>\n",
       "      <th>City</th>\n",
       "      <th>Country / Territory</th>\n",
       "      <th>Links</th>\n",
       "      <th>Daily Cost</th>\n",
       "      <th>1 Week (Individual)</th>\n",
       "      <th>2 Weeks (Individual)</th>\n",
       "      <th>1 Month (Individual)</th>\n",
       "      <th>1 Week (Couple)</th>\n",
       "      <th>2 Weeks (Couple)</th>\n",
       "      <th>1 Month (Couple)</th>\n",
       "      <th>Accommodation1</th>\n",
       "      <th>Local Transportation1</th>\n",
       "      <th>Food2</th>\n",
       "      <th>Entertainment1</th>\n",
       "      <th>Alcohol2</th>\n",
       "    </tr>\n",
       "  </thead>\n",
       "  <tbody>\n",
       "    <tr>\n",
       "      <th>29</th>\n",
       "      <td>30.0</td>\n",
       "      <td>Las Vegas</td>\n",
       "      <td>United States</td>\n",
       "      <td>https://www.budgetyourtrip.com/united-states-o...</td>\n",
       "      <td>369.0</td>\n",
       "      <td>2583.0</td>\n",
       "      <td>5166.0</td>\n",
       "      <td>11070.0</td>\n",
       "      <td>5166.0</td>\n",
       "      <td>10332.0</td>\n",
       "      <td>22140.0</td>\n",
       "      <td>158.0</td>\n",
       "      <td>53.0</td>\n",
       "      <td>139.0</td>\n",
       "      <td>78.0</td>\n",
       "      <td>55.5</td>\n",
       "    </tr>\n",
       "    <tr>\n",
       "      <th>43</th>\n",
       "      <td>44.0</td>\n",
       "      <td>Orlando</td>\n",
       "      <td>United States</td>\n",
       "      <td>https://www.budgetyourtrip.com/united-states-o...</td>\n",
       "      <td>368.0</td>\n",
       "      <td>2576.0</td>\n",
       "      <td>5152.0</td>\n",
       "      <td>11040.0</td>\n",
       "      <td>5152.0</td>\n",
       "      <td>10304.0</td>\n",
       "      <td>22080.0</td>\n",
       "      <td>154.0</td>\n",
       "      <td>66.0</td>\n",
       "      <td>113.0</td>\n",
       "      <td>204.0</td>\n",
       "      <td>30.0</td>\n",
       "    </tr>\n",
       "    <tr>\n",
       "      <th>7</th>\n",
       "      <td>8.0</td>\n",
       "      <td>New York City</td>\n",
       "      <td>United States</td>\n",
       "      <td>https://www.budgetyourtrip.com/united-states-o...</td>\n",
       "      <td>363.0</td>\n",
       "      <td>2541.0</td>\n",
       "      <td>5082.0</td>\n",
       "      <td>10890.0</td>\n",
       "      <td>5082.0</td>\n",
       "      <td>10164.0</td>\n",
       "      <td>21780.0</td>\n",
       "      <td>175.0</td>\n",
       "      <td>49.0</td>\n",
       "      <td>87.0</td>\n",
       "      <td>180.0</td>\n",
       "      <td>29.5</td>\n",
       "    </tr>\n",
       "    <tr>\n",
       "      <th>81</th>\n",
       "      <td>82.0</td>\n",
       "      <td>Honolulu</td>\n",
       "      <td>United States</td>\n",
       "      <td>https://www.budgetyourtrip.com/united-states-o...</td>\n",
       "      <td>322.0</td>\n",
       "      <td>2254.0</td>\n",
       "      <td>4508.0</td>\n",
       "      <td>9660.0</td>\n",
       "      <td>4508.0</td>\n",
       "      <td>9016.0</td>\n",
       "      <td>19320.0</td>\n",
       "      <td>183.0</td>\n",
       "      <td>26.0</td>\n",
       "      <td>91.0</td>\n",
       "      <td>40.0</td>\n",
       "      <td>6.5</td>\n",
       "    </tr>\n",
       "    <tr>\n",
       "      <th>34</th>\n",
       "      <td>35.0</td>\n",
       "      <td>Los Angeles</td>\n",
       "      <td>United States</td>\n",
       "      <td>https://www.budgetyourtrip.com/united-states-o...</td>\n",
       "      <td>300.0</td>\n",
       "      <td>2100.0</td>\n",
       "      <td>4200.0</td>\n",
       "      <td>9000.0</td>\n",
       "      <td>4200.0</td>\n",
       "      <td>8400.0</td>\n",
       "      <td>18000.0</td>\n",
       "      <td>138.0</td>\n",
       "      <td>40.0</td>\n",
       "      <td>104.0</td>\n",
       "      <td>84.0</td>\n",
       "      <td>14.5</td>\n",
       "    </tr>\n",
       "  </tbody>\n",
       "</table>\n",
       "</div>"
      ],
      "text/plain": [
       "    Rank (Euromonitor)           City Country / Territory  \\\n",
       "29                30.0      Las Vegas       United States   \n",
       "43                44.0        Orlando       United States   \n",
       "7                  8.0  New York City       United States   \n",
       "81                82.0       Honolulu       United States   \n",
       "34                35.0    Los Angeles       United States   \n",
       "\n",
       "                                                Links  Daily Cost  \\\n",
       "29  https://www.budgetyourtrip.com/united-states-o...       369.0   \n",
       "43  https://www.budgetyourtrip.com/united-states-o...       368.0   \n",
       "7   https://www.budgetyourtrip.com/united-states-o...       363.0   \n",
       "81  https://www.budgetyourtrip.com/united-states-o...       322.0   \n",
       "34  https://www.budgetyourtrip.com/united-states-o...       300.0   \n",
       "\n",
       "    1 Week (Individual)  2 Weeks (Individual)  1 Month (Individual)  \\\n",
       "29               2583.0                5166.0               11070.0   \n",
       "43               2576.0                5152.0               11040.0   \n",
       "7                2541.0                5082.0               10890.0   \n",
       "81               2254.0                4508.0                9660.0   \n",
       "34               2100.0                4200.0                9000.0   \n",
       "\n",
       "    1 Week (Couple)  2 Weeks (Couple)  1 Month (Couple)  Accommodation1  \\\n",
       "29           5166.0           10332.0           22140.0           158.0   \n",
       "43           5152.0           10304.0           22080.0           154.0   \n",
       "7            5082.0           10164.0           21780.0           175.0   \n",
       "81           4508.0            9016.0           19320.0           183.0   \n",
       "34           4200.0            8400.0           18000.0           138.0   \n",
       "\n",
       "    Local Transportation1  Food2  Entertainment1  Alcohol2  \n",
       "29                   53.0  139.0            78.0      55.5  \n",
       "43                   66.0  113.0           204.0      30.0  \n",
       "7                    49.0   87.0           180.0      29.5  \n",
       "81                   26.0   91.0            40.0       6.5  \n",
       "34                   40.0  104.0            84.0      14.5  "
      ]
     },
     "execution_count": 25,
     "metadata": {},
     "output_type": "execute_result"
    }
   ],
   "source": [
    "# top 5 most expensive cities\n",
    "final_costs.sort_values(\"Daily Cost\", ascending=False).head()"
   ]
  },
  {
   "cell_type": "code",
   "execution_count": 26,
   "metadata": {},
   "outputs": [],
   "source": [
    "country_avgs = pd.read_csv('ct_avgs_code.csv')"
   ]
  },
  {
   "cell_type": "code",
   "execution_count": 27,
   "metadata": {},
   "outputs": [
    {
     "data": {
      "text/html": [
       "<div>\n",
       "<style scoped>\n",
       "    .dataframe tbody tr th:only-of-type {\n",
       "        vertical-align: middle;\n",
       "    }\n",
       "\n",
       "    .dataframe tbody tr th {\n",
       "        vertical-align: top;\n",
       "    }\n",
       "\n",
       "    .dataframe thead th {\n",
       "        text-align: right;\n",
       "    }\n",
       "</style>\n",
       "<table border=\"1\" class=\"dataframe\">\n",
       "  <thead>\n",
       "    <tr style=\"text-align: right;\">\n",
       "      <th></th>\n",
       "      <th>Unnamed: 0</th>\n",
       "      <th>Country / Territory</th>\n",
       "      <th>Daily Cost</th>\n",
       "      <th>Code</th>\n",
       "    </tr>\n",
       "  </thead>\n",
       "  <tbody>\n",
       "    <tr>\n",
       "      <th>43</th>\n",
       "      <td>43</td>\n",
       "      <td>United States</td>\n",
       "      <td>318.71</td>\n",
       "      <td>USA</td>\n",
       "    </tr>\n",
       "    <tr>\n",
       "      <th>42</th>\n",
       "      <td>42</td>\n",
       "      <td>United Kingdom</td>\n",
       "      <td>274.00</td>\n",
       "      <td>GBR</td>\n",
       "    </tr>\n",
       "    <tr>\n",
       "      <th>8</th>\n",
       "      <td>8</td>\n",
       "      <td>Denmark</td>\n",
       "      <td>248.00</td>\n",
       "      <td>DNK</td>\n",
       "    </tr>\n",
       "    <tr>\n",
       "      <th>41</th>\n",
       "      <td>41</td>\n",
       "      <td>United Arab Emirates</td>\n",
       "      <td>243.00</td>\n",
       "      <td>ARE</td>\n",
       "    </tr>\n",
       "    <tr>\n",
       "      <th>1</th>\n",
       "      <td>1</td>\n",
       "      <td>Australia</td>\n",
       "      <td>241.00</td>\n",
       "      <td>AUS</td>\n",
       "    </tr>\n",
       "  </tbody>\n",
       "</table>\n",
       "</div>"
      ],
      "text/plain": [
       "    Unnamed: 0   Country / Territory  Daily Cost Code\n",
       "43          43         United States      318.71  USA\n",
       "42          42        United Kingdom      274.00  GBR\n",
       "8            8               Denmark      248.00  DNK\n",
       "41          41  United Arab Emirates      243.00  ARE\n",
       "1            1             Australia      241.00  AUS"
      ]
     },
     "execution_count": 27,
     "metadata": {},
     "output_type": "execute_result"
    }
   ],
   "source": [
    "# most expensive countries\n",
    "country_avgs.sort_values(\"Daily Cost\", ascending=False).head()"
   ]
  },
  {
   "cell_type": "code",
   "execution_count": 29,
   "metadata": {},
   "outputs": [
    {
     "data": {
      "text/html": [
       "<div>\n",
       "<style scoped>\n",
       "    .dataframe tbody tr th:only-of-type {\n",
       "        vertical-align: middle;\n",
       "    }\n",
       "\n",
       "    .dataframe tbody tr th {\n",
       "        vertical-align: top;\n",
       "    }\n",
       "\n",
       "    .dataframe thead th {\n",
       "        text-align: right;\n",
       "    }\n",
       "</style>\n",
       "<table border=\"1\" class=\"dataframe\">\n",
       "  <thead>\n",
       "    <tr style=\"text-align: right;\">\n",
       "      <th></th>\n",
       "      <th>Unnamed: 0</th>\n",
       "      <th>Country / Territory</th>\n",
       "      <th>Daily Cost</th>\n",
       "      <th>Code</th>\n",
       "    </tr>\n",
       "  </thead>\n",
       "  <tbody>\n",
       "    <tr>\n",
       "      <th>9</th>\n",
       "      <td>9</td>\n",
       "      <td>Egypt</td>\n",
       "      <td>19.00</td>\n",
       "      <td>EGY</td>\n",
       "    </tr>\n",
       "    <tr>\n",
       "      <th>15</th>\n",
       "      <td>15</td>\n",
       "      <td>India</td>\n",
       "      <td>47.00</td>\n",
       "      <td>IND</td>\n",
       "    </tr>\n",
       "    <tr>\n",
       "      <th>32</th>\n",
       "      <td>32</td>\n",
       "      <td>Saudi Arabia</td>\n",
       "      <td>53.00</td>\n",
       "      <td>SAU</td>\n",
       "    </tr>\n",
       "    <tr>\n",
       "      <th>22</th>\n",
       "      <td>22</td>\n",
       "      <td>Malaysia</td>\n",
       "      <td>64.67</td>\n",
       "      <td>MYS</td>\n",
       "    </tr>\n",
       "    <tr>\n",
       "      <th>44</th>\n",
       "      <td>44</td>\n",
       "      <td>Vietnam</td>\n",
       "      <td>68.25</td>\n",
       "      <td>VNM</td>\n",
       "    </tr>\n",
       "  </tbody>\n",
       "</table>\n",
       "</div>"
      ],
      "text/plain": [
       "    Unnamed: 0 Country / Territory  Daily Cost Code\n",
       "9            9               Egypt       19.00  EGY\n",
       "15          15               India       47.00  IND\n",
       "32          32        Saudi Arabia       53.00  SAU\n",
       "22          22            Malaysia       64.67  MYS\n",
       "44          44             Vietnam       68.25  VNM"
      ]
     },
     "execution_count": 29,
     "metadata": {},
     "output_type": "execute_result"
    }
   ],
   "source": [
    "# cheapest countries\n",
    "country_avgs.sort_values(\"Daily Cost\", ascending=True).head()"
   ]
  }
 ],
 "metadata": {
  "kernelspec": {
   "display_name": "env386",
   "language": "python",
   "name": "python3"
  },
  "language_info": {
   "codemirror_mode": {
    "name": "ipython",
    "version": 3
   },
   "file_extension": ".py",
   "mimetype": "text/x-python",
   "name": "python",
   "nbconvert_exporter": "python",
   "pygments_lexer": "ipython3",
   "version": "3.12.8"
  }
 },
 "nbformat": 4,
 "nbformat_minor": 2
}
